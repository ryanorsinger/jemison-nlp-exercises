{
 "cells": [
  {
   "cell_type": "markdown",
   "id": "9283fa46",
   "metadata": {},
   "source": [
    "# Meet Regular Expressions\n",
    "\n",
    "## What?\n",
    "- Regular expressions (called regexes or regex patterns) are a tiny language for dealing with text and character patterns.\n",
    "- With RegEx patterns we can:\n",
    "    - Does this string match a pattern?\n",
    "    - Is there a match for the pattern anywhere in the string?\n",
    "    - Modify + split strings in various ways\n",
    "    \n",
    "re library functions\n",
    "- `re.search` scans through a string, looking for any location where the RE matches.\n",
    "- `re.findall` Finds all substrings where the RE matches; returns a list.\n",
    "- `re.split` splits a string on a given regex pattern, removing that pattern. The result is a list of a strings.\n",
    "- `re.sub` allows us to match a regex and substitute in a new substring for the match.\n",
    "\n",
    "\n",
    "## So What?\n",
    "- Power + precision\n",
    "    - Cost is learning something new and potentially unfamiliar.\n",
    "    - Payoff is a language that works with any other programming language to operate on text and character patterns.\n",
    "- Regular Expressions are cross platform and available in many programming languages and environments:\n",
    "    - Command line tools (Linux, Windows, Mac, etc...)\n",
    "    - Python\n",
    "    - SQL flavors offer RegEx\n",
    "    - Java (Scala/Clojure)\n",
    "    - Other languages like Julia, Ruby, PHP, C#, etc...\n",
    "    - Like SQL, there are differences between some of the different RegEx implementations, but if you know your RegEx, you can bring value in many environments.\n",
    "\n",
    "## When is RegEx the right tool or wrong tool?\n",
    "- If you can solve the problem with built-in string methods in your language, do so.\n",
    "- If you need more capability than built-in string methods\n",
    "- If you're parsing HTML, JSON, or XML, use a tool built for those formats. Regex + html/json = don't\n",
    "\n",
    "## Now What?\n",
    "- We'll start simple by writing regex patterns to match literal characters.\n",
    "- Then we will introduce metacharacters, that have special meaning and functionality.\n",
    "\n",
    "## Key Concepts\n",
    "- The RegEx metacharacters `. ^ $ * + ? { } [ ] \\ | ( )` have special meanings. \n",
    "- Square brackets create a \"character class\". \n",
    "    - Character classes allow us to specify many OR operations\n",
    "    - For example, `r\"[aeiou]\"` matches any lowercase vowel character. Identical to `r\"a|e|i|o|u\"`\n",
    "    - `r\"[a-z]\"` matches lowercase a through z.\n",
    "- Metacharacters are not active inside of the character class square brackets `[]`\n",
    "- Outside of the character class `[]`, if you need to match a metacharacter character literally, you will need to put a `\\` in front of that character. `r\"\\+\"` will match the literal `+` character.\n",
    "- RegEx has characters for special sequences:\n",
    "    - `.` matches any character\n",
    "    - `\\d` matches any numeral. Is equivalent to `[0-9]`\n",
    "    - `\\D` matches any non-digit character and is equivalent to `[^0-9]`. \n",
    "    - `\\s` matches any white space like ` `, tab, soft return, new line etc...\n",
    "    - `\\w` matches any alphanumeric character and underscore. Equivalent to `[0-9a-zA-Z_]`\n",
    "    - `\\W` matches any non-alphanumeric character. Equivalent to `[^a-zA-Z0-9_]`\n",
    "- `.` Matches any character\n",
    "- Repetition:\n",
    "    - `*` matches zero or more of the previous pattern\n",
    "    - `+` matches 1 or more of the previous pattern\n",
    "- `?` after a pattern means that pattern is optional\n",
    "- Not - `[^abc]` matches anything but \"a\" or \"b\" or \"c\"\n",
    "- Anchors\n",
    "    - `^` start\n",
    "    - `$` end\n",
    "    - `\\b` word boundary\n",
    "- Groups\n",
    "    - `(a)`\n",
    "\n",
    "## How Deep Does RegEx go?\n",
    "- For challenging strings to match, like email addresses, recommend using pre-built RegEx specifications like  the HTML specification at https://html.spec.whatwg.org/multipage/forms.html#valid-e-mail-address\n",
    "- With known, good, and proven RegEx patterns like these, you don't need to reinvent things.\n",
    "- ```r\"^[a-zA-Z0-9.!#$%&'*+/=?^_`{|}~-]+@[a-zA-Z0-9](?:[a-zA-Z0-9-]{0,61}[a-zA-Z0-9])?(?:\\.[a-zA-Z0-9](?:[a-zA-Z0-9-]{0,61}[a-zA-Z0-9])?)*$\"```\n"
   ]
  },
  {
   "cell_type": "code",
   "execution_count": null,
   "id": "fdb0df63",
   "metadata": {},
   "outputs": [],
   "source": [
    "import re\n",
    "import pandas as pd"
   ]
  },
  {
   "cell_type": "markdown",
   "id": "935082af",
   "metadata": {},
   "source": [
    "### Patterns to Match Literals \n",
    "> Crawl before you walk"
   ]
  },
  {
   "cell_type": "code",
   "execution_count": null,
   "id": "f795d9a2",
   "metadata": {
    "scrolled": true
   },
   "outputs": [],
   "source": [
    "string = \"Two households, both alike in dignity, In fair Verona, where we lay our scene, From ancient grudge break to new mutiny, Where civil blood makes civil hands unclean.\"\n",
    "string"
   ]
  },
  {
   "cell_type": "code",
   "execution_count": null,
   "id": "ddfcd68e",
   "metadata": {},
   "outputs": [],
   "source": [
    "# We can search for a literal match of the string Verona\n",
    "# re.search(r\"pattern\", \"our subject\")\n",
    "x = re.search(r\"Verona\", string)\n",
    "x"
   ]
  },
  {
   "cell_type": "code",
   "execution_count": null,
   "id": "34c0736d",
   "metadata": {},
   "outputs": [],
   "source": [
    "# the span returned is the index. \n",
    "# Consider if we were to splice the string using the span bounds\n",
    "string[47:53]"
   ]
  },
  {
   "cell_type": "code",
   "execution_count": null,
   "id": "755f59ae",
   "metadata": {},
   "outputs": [],
   "source": [
    "re.search(r\"In fair Verona\", string)"
   ]
  },
  {
   "cell_type": "code",
   "execution_count": null,
   "id": "cfe97a67",
   "metadata": {},
   "outputs": [],
   "source": [
    "# The string \"Leonardo DiCaprio\" is not here, so re.search returns None\n",
    "re.search(r\"Leonardo DiCaprio\", string)"
   ]
  },
  {
   "cell_type": "code",
   "execution_count": null,
   "id": "8ccd03c4",
   "metadata": {},
   "outputs": [],
   "source": [
    "# re.search returns the first match\n",
    "re.search(r\"civil\", string)"
   ]
  },
  {
   "cell_type": "code",
   "execution_count": null,
   "id": "80942b16",
   "metadata": {},
   "outputs": [],
   "source": [
    "# .findall returns all matches\n",
    "re.findall(r\"civil\", string)"
   ]
  },
  {
   "cell_type": "code",
   "execution_count": null,
   "id": "4f81eb50",
   "metadata": {},
   "outputs": [],
   "source": [
    "# empty set for no matches with .findall\n",
    "re.findall(r\"Claire Danes\", string)"
   ]
  },
  {
   "cell_type": "code",
   "execution_count": null,
   "id": "672c8b72",
   "metadata": {},
   "outputs": [],
   "source": [
    "re.search(r\"Two\", string)"
   ]
  },
  {
   "cell_type": "code",
   "execution_count": null,
   "id": "d6e9c4f4",
   "metadata": {},
   "outputs": [],
   "source": [
    "# Are computers particular on specifics?\n",
    "re.search(r\"two\", string)"
   ]
  },
  {
   "cell_type": "code",
   "execution_count": null,
   "id": "a58afdde",
   "metadata": {},
   "outputs": [],
   "source": [
    "# The re.IGNORECASE flag does exactly that\n",
    "re.search(r\"two\", string, re.IGNORECASE)"
   ]
  },
  {
   "cell_type": "code",
   "execution_count": null,
   "id": "7eac3e7e",
   "metadata": {},
   "outputs": [],
   "source": [
    "re.search(r\"A\", \"aaaaaa\", re.IGNORECASE)"
   ]
  },
  {
   "cell_type": "code",
   "execution_count": null,
   "id": "223f3e2c",
   "metadata": {},
   "outputs": [],
   "source": [
    "re.search(r\"Aaaaa\", \"aaaaaa\", re.IGNORECASE)"
   ]
  },
  {
   "cell_type": "markdown",
   "id": "857d51d1",
   "metadata": {},
   "source": [
    "## Using `|` for a logical OR to open opportunities\n",
    "- We can use `|` with literal characters or other regular expression patterns"
   ]
  },
  {
   "cell_type": "code",
   "execution_count": null,
   "id": "971d7d94",
   "metadata": {},
   "outputs": [],
   "source": [
    "# OR\n",
    "# Findall returns all matches \n",
    "re.findall(r\"gray|grey\", \"I can't remember if you spell grey gray or gray like grey!\")"
   ]
  },
  {
   "cell_type": "code",
   "execution_count": null,
   "id": "47b73648",
   "metadata": {},
   "outputs": [],
   "source": [
    "# The .search method matches only the first match\n",
    "re.search(r\"orange|apple\", \"I like both apples and oranges\")"
   ]
  },
  {
   "cell_type": "code",
   "execution_count": null,
   "id": "19dc9e16",
   "metadata": {},
   "outputs": [],
   "source": [
    "re.findall(r\"this|that\", \"this that and the other\")"
   ]
  },
  {
   "cell_type": "code",
   "execution_count": null,
   "id": "a33c092c",
   "metadata": {},
   "outputs": [],
   "source": [
    "# has a vowel, anywhere\n",
    "re.search(r\"a|e|i|o|u\", \"banana\", re.IGNORECASE)"
   ]
  },
  {
   "cell_type": "code",
   "execution_count": null,
   "id": "120b4858",
   "metadata": {},
   "outputs": [],
   "source": [
    "re.findall(r\"[aeiou]\", \"banana\", re.IGNORECASE)"
   ]
  },
  {
   "cell_type": "code",
   "execution_count": null,
   "id": "b1046aa2",
   "metadata": {},
   "outputs": [],
   "source": [
    "re.findall(r\"a|e|i|o|u\", \"banana\", re.IGNORECASE)"
   ]
  },
  {
   "cell_type": "code",
   "execution_count": null,
   "id": "ab6361ea",
   "metadata": {},
   "outputs": [],
   "source": [
    "# carot is starts-with\n",
    "# . is any character\n",
    "# * is zero or more\n",
    "re.search(r\"^b.*\", \"bananarama\")"
   ]
  },
  {
   "cell_type": "code",
   "execution_count": null,
   "id": "72e883b1",
   "metadata": {},
   "outputs": [],
   "source": [
    "# .* finds the largest possible match\n",
    "# technical term is greedy\n",
    "re.search(r\"^b.*\", \"bananarama pajama\")"
   ]
  },
  {
   "cell_type": "code",
   "execution_count": null,
   "id": "a797cd6d",
   "metadata": {},
   "outputs": [],
   "source": [
    "# match b then 1 or more alphanumerics for a word\n",
    "# \\w means any a-zA-Z0-9_\n",
    "# + means 1 or more letters\n",
    "# when the pattern hits the \" \" before pajama, we're done\n",
    "re.search(r\"^b\\w+\", \"bananarama pajama\")"
   ]
  },
  {
   "cell_type": "code",
   "execution_count": null,
   "id": "4a6ff488",
   "metadata": {},
   "outputs": [],
   "source": [
    "# match the character b then any other character\n",
    "re.search(r\"b.\", \"hello bananarama pajama\")"
   ]
  },
  {
   "cell_type": "code",
   "execution_count": null,
   "id": "d2efefce",
   "metadata": {},
   "outputs": [],
   "source": [
    "# match b followed by 3 of any character\n",
    "re.search(r\"b.{3}\", \"hello bananarama pajama\")"
   ]
  },
  {
   "cell_type": "code",
   "execution_count": null,
   "id": "2c92a9cc",
   "metadata": {},
   "outputs": [],
   "source": [
    "re.search(r\"b.* \", \"hello bananarama pajama\")"
   ]
  },
  {
   "cell_type": "code",
   "execution_count": null,
   "id": "d5adfa7f",
   "metadata": {},
   "outputs": [],
   "source": [
    "# [^abc] as \"anything that ain't a or b or c\"\n",
    "re.search(r\"[^b]\", \"hello bananarama pajama\")"
   ]
  },
  {
   "cell_type": "code",
   "execution_count": null,
   "id": "74e29aaf",
   "metadata": {},
   "outputs": [],
   "source": [
    "# let's find something that starts with a then has any number of other characters\n",
    "re.search(r\"^a.*\", \"hello bananarama pajama\")"
   ]
  },
  {
   "cell_type": "code",
   "execution_count": null,
   "id": "1bd5da00",
   "metadata": {},
   "outputs": [],
   "source": [
    "re.search(r\"ban.*\", \"hello bananarama pajama\")"
   ]
  },
  {
   "cell_type": "code",
   "execution_count": null,
   "id": "6fa16056",
   "metadata": {},
   "outputs": [],
   "source": [
    "re.search(r\"a.*\", \"hello bananarama pajama\")"
   ]
  },
  {
   "cell_type": "code",
   "execution_count": null,
   "id": "36b6267d",
   "metadata": {},
   "outputs": [],
   "source": [
    "# starts with\n",
    "# anything\n",
    "# ends with \n",
    "re.search(r\"^b.* \", \"bananarama pajama\")"
   ]
  },
  {
   "cell_type": "code",
   "execution_count": null,
   "id": "61b9b3aa",
   "metadata": {},
   "outputs": [],
   "source": [
    "# starts with\n",
    "# anything\n",
    "# ends with \n",
    "re.search(r\"^b\\w+\", \"bananarama pajama\")"
   ]
  },
  {
   "cell_type": "code",
   "execution_count": null,
   "id": "4b2b4fcd",
   "metadata": {},
   "outputs": [],
   "source": [
    "re.search(r\".*jama$\", \"bananarama pajama\")"
   ]
  },
  {
   "cell_type": "code",
   "execution_count": null,
   "id": "d302b3f5",
   "metadata": {},
   "outputs": [],
   "source": [
    "re.search(r\".*rama\", \"bananarama pajama\")"
   ]
  },
  {
   "cell_type": "code",
   "execution_count": null,
   "id": "e28919dc",
   "metadata": {},
   "outputs": [],
   "source": [
    "# \\w matches [a-zA-Z0-9_]\n",
    "re.search(r\"\\w\", \"abc123\")"
   ]
  },
  {
   "cell_type": "code",
   "execution_count": null,
   "id": "85d09b28",
   "metadata": {},
   "outputs": [],
   "source": [
    "# what if we want only letters and not letters + numbers + _ character\n",
    "re.search(r\"[a-zA-Z]*\", \"stuff and things and 123\")"
   ]
  },
  {
   "cell_type": "code",
   "execution_count": null,
   "id": "d8ffd2c0",
   "metadata": {},
   "outputs": [],
   "source": [
    "# what if we want only letters and not letters + numbers + _ character\n",
    "# the [a-z]+ is finding any and all sequences that are only [a-zA-Z]\n",
    "re.findall(r\"[a-zA-Z]+\", \"42 $stuff a****nd things and 123\")"
   ]
  },
  {
   "cell_type": "code",
   "execution_count": null,
   "id": "4325d124",
   "metadata": {},
   "outputs": [],
   "source": [
    "re.search(r\"\\w\\w\\w\", \"abc123\")"
   ]
  },
  {
   "cell_type": "code",
   "execution_count": null,
   "id": "3a24431b",
   "metadata": {},
   "outputs": [],
   "source": [
    "re.search(r\"\\w\\w\\w\\w\\w\\w\", \"abc123\")"
   ]
  },
  {
   "cell_type": "code",
   "execution_count": null,
   "id": "f9517d4e",
   "metadata": {},
   "outputs": [],
   "source": [
    "# seven \\w characters will only match seven of any [a-zA-Z0-9]\n",
    "re.search(r\"\\w\\w\\w\\w\\w\\w\\w\", \"abc123\")"
   ]
  },
  {
   "cell_type": "code",
   "execution_count": null,
   "id": "aa999c79",
   "metadata": {},
   "outputs": [],
   "source": [
    "re.search(r\"\\w*\", \"abc123def456\")"
   ]
  },
  {
   "cell_type": "code",
   "execution_count": null,
   "id": "97f655bc",
   "metadata": {},
   "outputs": [],
   "source": [
    "# curly braces for repetition\n",
    "re.search(r\"\\w{3}\", \"abc123\")"
   ]
  },
  {
   "cell_type": "code",
   "execution_count": null,
   "id": "1810aaa1",
   "metadata": {},
   "outputs": [],
   "source": [
    "re.search(r\"\\w{1,6}\", \"abc123\")"
   ]
  },
  {
   "cell_type": "code",
   "execution_count": null,
   "id": "352937ce",
   "metadata": {},
   "outputs": [],
   "source": [
    "# {n,} matches n or more times\n",
    "re.search(r\"\\w{1,}\", \"abc123 is the place to be\")"
   ]
  },
  {
   "cell_type": "code",
   "execution_count": null,
   "id": "530f0b3e",
   "metadata": {},
   "outputs": [],
   "source": [
    "# {n,} matches n or more times\n",
    "re.findall(r\"\\w{1,}\", \"abc123 is the place to be\")"
   ]
  },
  {
   "cell_type": "code",
   "execution_count": null,
   "id": "2b2afd0b",
   "metadata": {},
   "outputs": [],
   "source": [
    "# {n,} matches n or more times\n",
    "re.findall(r\"\\w{1,6}\", \"abc123 is the place to be banaramapajama\")"
   ]
  },
  {
   "cell_type": "code",
   "execution_count": null,
   "id": "73f7817a",
   "metadata": {},
   "outputs": [],
   "source": [
    "# {n,} matches n or more times\n",
    "# space after the 1-6 alphanumeric \\w matches\n",
    "re.findall(r\"\\w{1,6} \", \"abc123 is the place to be banaramapajama\")"
   ]
  },
  {
   "cell_type": "code",
   "execution_count": null,
   "id": "5bca7a90",
   "metadata": {},
   "outputs": [],
   "source": [
    "# {n,} matches n or more times\n",
    "re.search(r\"\\w{1,6}\", \"abc123 is the place to be banaramapajama\")"
   ]
  },
  {
   "cell_type": "code",
   "execution_count": null,
   "id": "f21315ca",
   "metadata": {},
   "outputs": [],
   "source": [
    "# {n,} matches n or more times\n",
    "re.search(r\"\\w{2,6}\", \"abc123\")"
   ]
  },
  {
   "cell_type": "code",
   "execution_count": null,
   "id": "3dddeaa7",
   "metadata": {},
   "outputs": [],
   "source": [
    "# r\"\\w+\" is the same as r\"\\w{1,}\"\n",
    "re.findall(r\"\\w+\", \"abc123 is the place to be\")"
   ]
  },
  {
   "cell_type": "code",
   "execution_count": null,
   "id": "d530fddb",
   "metadata": {},
   "outputs": [],
   "source": [
    "# 3 digits then a single character of any then 4 digits\n",
    "re.search(r\"[0-9]{3}.[0-9]{4}\", \"226-3232\")"
   ]
  },
  {
   "cell_type": "code",
   "execution_count": null,
   "id": "e722502f",
   "metadata": {},
   "outputs": [],
   "source": [
    "# 3 digits then a single character of any then 4 digits\n",
    "re.search(r\"[0-9]{3}.[0-9]{4}\", \"226.3232\")"
   ]
  },
  {
   "cell_type": "code",
   "execution_count": null,
   "id": "08e90387",
   "metadata": {},
   "outputs": [],
   "source": [
    "# What if the delimiter is optional?\n",
    "# question mark metacharacter means the thing to the left of the ? is optional\n",
    "re.search(r\"[0-9]{3}.[0-9]{4}\", \"2263232\")\n"
   ]
  },
  {
   "cell_type": "code",
   "execution_count": null,
   "id": "30a1a6ec",
   "metadata": {},
   "outputs": [],
   "source": [
    "# What if the delimiter is optional?\n",
    "# question mark metacharacter means the thing to the left of the ? is optional\n",
    "re.search(r\"[0-9]{3}.?[0-9]{4}\", \"2263232\")\n"
   ]
  },
  {
   "cell_type": "code",
   "execution_count": null,
   "id": "be45f6d7",
   "metadata": {},
   "outputs": [],
   "source": [
    "re.search(r\"[0-9]{3}.?[0-9]{4}\", \"226-3232\")\n"
   ]
  },
  {
   "cell_type": "code",
   "execution_count": null,
   "id": "9e45513d",
   "metadata": {},
   "outputs": [],
   "source": [
    "re.search(r\"[0-9]{3}.?[0-9]{4}\", \"2263232\")"
   ]
  },
  {
   "cell_type": "markdown",
   "id": "95a06a11",
   "metadata": {},
   "source": [
    "## Using a RegEx pattern to split a string\n",
    "- The `re.split` method returns a list of strings\n",
    "- The matching substring is removed\n",
    "- We can split on any regex pattern, not only character literals"
   ]
  },
  {
   "cell_type": "code",
   "execution_count": null,
   "id": "bfe7f60f",
   "metadata": {},
   "outputs": [],
   "source": [
    "\"210-226-3232\".split(\"-\")"
   ]
  },
  {
   "cell_type": "code",
   "execution_count": null,
   "id": "62abee0c",
   "metadata": {},
   "outputs": [],
   "source": [
    "# Split the phone number on the\n",
    "re.split(r\"-| \", \"210 226 3232\")"
   ]
  },
  {
   "cell_type": "code",
   "execution_count": null,
   "id": "c1d7b632",
   "metadata": {
    "scrolled": true
   },
   "outputs": [],
   "source": [
    "# Split the phone number on the\n",
    "re.split(r\"-| \", \"210-226-3232\")"
   ]
  },
  {
   "cell_type": "code",
   "execution_count": null,
   "id": "d9a51e9e",
   "metadata": {
    "scrolled": true
   },
   "outputs": [],
   "source": [
    "# Splits the string on the space character\n",
    "# The \\ is necessary\n",
    "re.split(r\" \", \"this that and the other\")"
   ]
  },
  {
   "cell_type": "code",
   "execution_count": null,
   "id": "7d20cf95",
   "metadata": {},
   "outputs": [],
   "source": [
    "# Parse these songs into a dataframe containing 2 columns: artist_name and song_name\n",
    "# Hint: break the string into an array of strings that hold each song/artist record\n",
    "songs = \"Harry_Belafonte_-_Jump_In_the_Line.mp3,Willie_Mae_'Big_Mama'_Thornton_-_Hound_Dog.mp3,Tina_Turner_-_Proud_Mary.mp3,Prince_-_Purple_Rain.mp3\"\n",
    "songs"
   ]
  },
  {
   "cell_type": "code",
   "execution_count": null,
   "id": "25b838c5",
   "metadata": {},
   "outputs": [],
   "source": [
    "# re.method(pattern, subject_string, re.IGNORECASE)\n",
    "\n",
    "# re.split\n",
    "# re.search\n",
    "# re.findall"
   ]
  },
  {
   "cell_type": "markdown",
   "id": "f5636e9d",
   "metadata": {},
   "source": [
    "## [Character Classes]\n",
    "- Square brackets make character classes \n",
    "- Character classes provide OR behavior\n",
    "- In a character classe, `^` works as a \"None of\" operator\n",
    "- Metacharacters match their literal character when inside of square brackets for a character class"
   ]
  },
  {
   "cell_type": "code",
   "execution_count": null,
   "id": "adae9f5b",
   "metadata": {},
   "outputs": [],
   "source": [
    "# has a vowel, anywhere\n",
    "re.search(r\"[aeiou]\", \"banana\", re.IGNORECASE)"
   ]
  },
  {
   "cell_type": "code",
   "execution_count": null,
   "id": "65d0890d",
   "metadata": {},
   "outputs": [],
   "source": [
    "# The parentheses around \n",
    "re.findall(r\"gr[ae]y\", \"Some people spell gray like grey\")"
   ]
  },
  {
   "cell_type": "code",
   "execution_count": null,
   "id": "0cd12b75",
   "metadata": {},
   "outputs": [],
   "source": [
    "# has a vowel, anywhere\n",
    "\n",
    "re.search(r\"a|e|i|o|u\", \"banana\", re.IGNORECASE)"
   ]
  },
  {
   "cell_type": "code",
   "execution_count": null,
   "id": "82c4a682",
   "metadata": {},
   "outputs": [],
   "source": [
    "# Is only a single vowel\n",
    "\n",
    "re.search(r\"^[aeiou]{1}$\", \"a\", re.IGNORECASE)"
   ]
  },
  {
   "cell_type": "code",
   "execution_count": null,
   "id": "8da31325",
   "metadata": {},
   "outputs": [],
   "source": [
    "# is only a single vowel\n",
    "re.search(r\"^[aeiou]{1}$\", \"ae\", re.IGNORECASE)"
   ]
  },
  {
   "cell_type": "code",
   "execution_count": null,
   "id": "20a89121",
   "metadata": {},
   "outputs": [],
   "source": [
    "# is only vowels\n",
    "re.search(r\"^[aeiou]*$\", \"aaeeeaa\")"
   ]
  },
  {
   "cell_type": "code",
   "execution_count": null,
   "id": "f9c8080d",
   "metadata": {},
   "outputs": [],
   "source": [
    "# has a p or q, anywhere\n",
    "re.search(r\"p|q\", \"albuquerque\", re.IGNORECASE)"
   ]
  },
  {
   "cell_type": "code",
   "execution_count": null,
   "id": "f6bc7a67",
   "metadata": {},
   "outputs": [],
   "source": [
    "# has a p or q, anywhere\n",
    "re.search(r\"[pq]\", \"albuquerque\", re.IGNORECASE)"
   ]
  },
  {
   "cell_type": "code",
   "execution_count": null,
   "id": "83c9d632",
   "metadata": {},
   "outputs": [],
   "source": [
    "# is p or q\n",
    "re.search(r\"^[pq]{1}$\", \"q\", re.IGNORECASE)"
   ]
  },
  {
   "cell_type": "code",
   "execution_count": null,
   "id": "6cd6f169",
   "metadata": {},
   "outputs": [],
   "source": [
    "# is only Ps and Qs\n",
    "re.search(r\"^[pqPQ]*$\", \"pqpqpqpPQQQQQQQQp\")"
   ]
  },
  {
   "cell_type": "code",
   "execution_count": null,
   "id": "111cc9f3",
   "metadata": {},
   "outputs": [],
   "source": [
    "re.search(r\"^[pq]*$\", \"b3qwpeop\")"
   ]
  },
  {
   "cell_type": "code",
   "execution_count": null,
   "id": "b44277a2",
   "metadata": {},
   "outputs": [],
   "source": [
    "string = \"Two households, both alike in dignity, In fair Verona, where we lay our scene, From ancient grudge break to new mutiny, Where civil blood makes civil hands unclean.\"\n",
    "string\n",
    "\n",
    "# find all the occurences of civil followed by the word immediately after \"civil\"\n",
    "re.findall(r\"civil\\s[a-z]+\", string)\n"
   ]
  },
  {
   "cell_type": "markdown",
   "id": "b345d70f",
   "metadata": {},
   "source": [
    "## Repetition characters and Special Sequences\n",
    "> Walk before you run\n",
    "\n",
    "- `.` means any single character\n",
    "- `*` means zero or more characters\n",
    "- `+` means one or more characters\n",
    "- `.` matches any character\n",
    "- `\\b` is a word boundary anchor\n",
    "- `\\d` matches any decimal. Is equivalent to `[0-9]`\n",
    "- `\\D` matches any non-digit character and is equivalent to `[^0-9]`. \n",
    "- `\\s` matches any white space like ` `, tab, soft return, new line etc...\n",
    "- `\\w` matches any alphanumeric character and underscore. Equivalent to `[0-9a-zA-Z_]`\n",
    "- `\\W` matches any non-alphanumeric character. Equivalent to `[^a-zA-Z0-9_]`\n",
    "- `{n)` exactly n characters\n",
    "- `{n,}` n or more characters\n",
    "- `{n, m}` n to m times"
   ]
  },
  {
   "cell_type": "code",
   "execution_count": null,
   "id": "468da022",
   "metadata": {},
   "outputs": [],
   "source": [
    "# world w/o \\b word boundary\n",
    "re.search(r\"o\\w+\", \"do you like apples or oranges?\")"
   ]
  },
  {
   "cell_type": "code",
   "execution_count": null,
   "id": "264002e1",
   "metadata": {},
   "outputs": [],
   "source": [
    "# \\b means word boundary\n",
    "# any word that starts with o\n",
    "re.search(r\"\\bo\\w+\", \"do you like apples or oranges?\")"
   ]
  },
  {
   "cell_type": "code",
   "execution_count": null,
   "id": "54d4bf68",
   "metadata": {},
   "outputs": [],
   "source": [
    "# \\b means word boundary\n",
    "# any word that starts with o\n",
    "re.findall(r\"\\bo\\w+\", \"do you like apples or oranges?\")"
   ]
  },
  {
   "cell_type": "code",
   "execution_count": null,
   "id": "3eb3f4cf",
   "metadata": {},
   "outputs": [],
   "source": [
    "# \\b means word boundary\n",
    "# any word that starts with o\n",
    "# without the word boundary, we get the \"ou\" from \"you\"\n",
    "re.findall(r\"o\\w+\", \"do you like apples or oranges?\")"
   ]
  },
  {
   "cell_type": "code",
   "execution_count": null,
   "id": "8a541d17",
   "metadata": {},
   "outputs": [],
   "source": [
    "# \\b means word boundary\n",
    "# any word that starts with o\n",
    "re.findall(r\"\\bo\\w+\", \"do you like apples or oranges?\")"
   ]
  },
  {
   "cell_type": "markdown",
   "id": "2f162b03",
   "metadata": {},
   "source": [
    "## Groups"
   ]
  },
  {
   "cell_type": "code",
   "execution_count": null,
   "id": "cfcf953d",
   "metadata": {},
   "outputs": [],
   "source": [
    "sentence = '''\n",
    "You can find us on the web at https://codeup.com. Our ip address is 123.123.123.123 (maybe).\n",
    "'''.strip()\n",
    "sentence"
   ]
  },
  {
   "cell_type": "code",
   "execution_count": null,
   "id": "dbadbaa0",
   "metadata": {},
   "outputs": [],
   "source": [
    "ip_re = r'\\d+(\\.\\d+){3}'\n",
    "\n",
    "match = re.search(ip_re, sentence)\n",
    "match[0]"
   ]
  },
  {
   "cell_type": "code",
   "execution_count": null,
   "id": "24f63b18",
   "metadata": {},
   "outputs": [],
   "source": [
    "# simplified for demonstration, a real url to parse urls would be much more\n",
    "# complex\n",
    "url_re = r'(https?)://(\\w+)\\.(\\w+)'\n",
    "\n",
    "protocol, domain, tld = re.search(url_re, sentence).groups()\n",
    "\n",
    "print(f'''\n",
    "protocol: {protocol}\n",
    "domain:   {domain}\n",
    "tld:      {tld}\n",
    "''')"
   ]
  },
  {
   "cell_type": "code",
   "execution_count": null,
   "id": "d1767cbd",
   "metadata": {},
   "outputs": [],
   "source": [
    "re.search(url_re, sentence).groups()"
   ]
  },
  {
   "cell_type": "code",
   "execution_count": null,
   "id": "a47a6c59",
   "metadata": {},
   "outputs": [],
   "source": [
    "url_re = r'(?P<protocol>https?)://(?P<domain>\\w+)\\.(?P<tld>\\w+)'\n",
    "\n",
    "match = re.search(url_re, sentence)\n"
   ]
  },
  {
   "cell_type": "code",
   "execution_count": null,
   "id": "0f89e89a",
   "metadata": {},
   "outputs": [],
   "source": [
    "match.groups()"
   ]
  },
  {
   "cell_type": "code",
   "execution_count": null,
   "id": "905d5d55",
   "metadata": {},
   "outputs": [],
   "source": [
    "match.group(\"domain\")"
   ]
  },
  {
   "cell_type": "code",
   "execution_count": null,
   "id": "1562d114",
   "metadata": {},
   "outputs": [],
   "source": [
    "match.group(\"tld\")"
   ]
  },
  {
   "cell_type": "code",
   "execution_count": null,
   "id": "36c4ed51",
   "metadata": {},
   "outputs": [],
   "source": [
    "match.groupdict()"
   ]
  },
  {
   "cell_type": "code",
   "execution_count": null,
   "id": "bdf206b7",
   "metadata": {},
   "outputs": [],
   "source": [
    "print(f'''\n",
    "groups: {match.groups()}\n",
    "referencing a group by name: {match.group('tld')}\n",
    "group dictionary: {match.groupdict()}\n",
    "''')"
   ]
  },
  {
   "cell_type": "markdown",
   "id": "5cced33b",
   "metadata": {},
   "source": [
    "## A Reflection on Captured Groups\n",
    "- After matching the first group or two, the need to be _highly_ specific with subsequent groups (unless there is ambiguity in the forms in the source text) likely starts to decrease. \n",
    "- For example, matching an abitrary user agent string in on its own might prove challenging. Specific user agents even more so https://jonlabelle.com/snippets/view/yaml/browser-user-agent-regular-expressions. But if that arbitrary user agent string lives in a line inside a log where to the left we've already matched a group for the method type GET|POST, and the timestamp, then matching any specific user agent string with the cleanest regex ever isn't as necessary, probabilistically, as matching any string up until but not including the bytes transmitted group to its right.\n",
    "- We can sometimes rely on the regularness of forms, especially with multiple captured groups in order to capture much more challenging patterns in the middle of other more easily discerned pattern groups."
   ]
  },
  {
   "cell_type": "code",
   "execution_count": null,
   "id": "e9ae04ef",
   "metadata": {},
   "outputs": [],
   "source": [
    "# Consider the following lines in a log\n",
    "logs = \"\"\"\n",
    "GET /api/v1/sales?page=86 [16/Apr/2019:193452+0000] HTTP/1.1 {200} 510348 \"python-requests/2.21.0\" 97.105.19.58\n",
    "POST /users_accounts/file-upload [16/Apr/2019:193452+0000] HTTP/1.1 {201} 42 \"User-Agent: Mozilla/5.0 (X11; Fedora; Fedora; Linux x86_64) AppleWebKit/537.36 (KHTML, like Gecko) Chrome/73.0.3683.86 Safari/537.36\" 97.105.19.58\n",
    "GET /api/v1/items?page=3 [16/Apr/2019:193453+0000] HTTP/1.1 {429} 3561 \"python-requests/2.21.0\" 97.105.19.58\n",
    "\"\"\"\n",
    "print(logs)"
   ]
  },
  {
   "cell_type": "code",
   "execution_count": null,
   "id": "cca802b8",
   "metadata": {},
   "outputs": [],
   "source": [
    "emails = [\n",
    "    \"jane@company.com\",\n",
    "    \"bob@company.com\",\n",
    "    \"jane.janeway@company.com\",\n",
    "    \"jane.janeway@dogood.org\",\n",
    "#     \"jane.janet.janeway@dogood.org\",\n",
    "#     \"jane.janeway@ang.af.mil\",\n",
    "]"
   ]
  },
  {
   "cell_type": "code",
   "execution_count": null,
   "id": "4236488b",
   "metadata": {},
   "outputs": [],
   "source": [
    "pattern = re.compile(r\"\"\"\n",
    "(?P<first_name>\\w+)?\n",
    "\\.?\n",
    "(?P<last_name>\\w+)?\n",
    "\\@\n",
    "(?P<domain>\\w+)\n",
    "\\.\n",
    "(?P<tld>\\w+)\n",
    "\"\"\", re.VERBOSE)"
   ]
  },
  {
   "cell_type": "code",
   "execution_count": null,
   "id": "5ed7172d",
   "metadata": {},
   "outputs": [],
   "source": [
    "[re.search(pattern, email).groupdict() for email in emails]"
   ]
  },
  {
   "cell_type": "code",
   "execution_count": null,
   "id": "146df5a9",
   "metadata": {},
   "outputs": [],
   "source": []
  }
 ],
 "metadata": {
  "kernelspec": {
   "display_name": "Python 3 (ipykernel)",
   "language": "python",
   "name": "python3"
  },
  "language_info": {
   "codemirror_mode": {
    "name": "ipython",
    "version": 3
   },
   "file_extension": ".py",
   "mimetype": "text/x-python",
   "name": "python",
   "nbconvert_exporter": "python",
   "pygments_lexer": "ipython3",
   "version": "3.8.12"
  }
 },
 "nbformat": 4,
 "nbformat_minor": 5
}
